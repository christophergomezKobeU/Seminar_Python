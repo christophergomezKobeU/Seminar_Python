{
 "cells": [
  {
   "cell_type": "markdown",
   "id": "6b747966",
   "metadata": {},
   "source": [
    "# 砂防学・ゼミ\n",
    "## WORKING WITH TIME SERIES LIKE RAINFALL DATA SEMINAR 1\n",
    "\n",
    "When working in the field of SABO, you will often encounter data that are formatted in tables in different ways, and in tables that are often much larger than the ones that Excel and most point-and-click software can handle. It thus becomes handy to use Python and libraries such as PANDAS to handle the dataset.\n",
    "\n",
    "砂防学の分野で働く際には、さまざまな形式のテーブルでフォーマットされたデータによく出くわすことがあります。これらのテーブルは、Excelやほとんどのポイントアンドクリックソフトウェアで処理できるものよりもはるかに大きいことが多いです。そのため、PythonやPANDASなどのライブラリを使用してデータセットを処理すると便利です。"
   ]
  },
  {
   "cell_type": "markdown",
   "id": "3ba8e5cd",
   "metadata": {},
   "source": [
    "## 1. Reading and extracting data from a csv file in a dataframe"
   ]
  },
  {
   "cell_type": "code",
   "execution_count": 76,
   "id": "ec3ff559",
   "metadata": {},
   "outputs": [],
   "source": [
    "%matplotlib inline   # Remember to use this to display graphics on a python Jupyter page\n",
    "\n",
    "# import the necessary library\n",
    "import pandas as pd\n",
    "import matplotlib.pyplot as plt\n",
    "\n",
    "# import the data used in the present case (the data will be stored with this file)\n",
    "df = pd.read_csv('Himeji_Rainfall1993,6,1-2023,5,31.csv', encoding=\"cp932\", engine ='python')"
   ]
  },
  {
   "cell_type": "code",
   "execution_count": 77,
   "id": "6a2abdef",
   "metadata": {},
   "outputs": [
    {
     "data": {
      "text/html": [
       "<div>\n",
       "<style scoped>\n",
       "    .dataframe tbody tr th:only-of-type {\n",
       "        vertical-align: middle;\n",
       "    }\n",
       "\n",
       "    .dataframe tbody tr th {\n",
       "        vertical-align: top;\n",
       "    }\n",
       "\n",
       "    .dataframe thead th {\n",
       "        text-align: right;\n",
       "    }\n",
       "</style>\n",
       "<table border=\"1\" class=\"dataframe\">\n",
       "  <thead>\n",
       "    <tr style=\"text-align: right;\">\n",
       "      <th></th>\n",
       "      <th>年月日</th>\n",
       "      <th>1時間降水量の最大(mm)</th>\n",
       "      <th>1時間降水量の最大(mm).1</th>\n",
       "      <th>1時間降水量の最大(mm).2</th>\n",
       "      <th>1時間降水量の最大(mm).3</th>\n",
       "    </tr>\n",
       "  </thead>\n",
       "  <tbody>\n",
       "    <tr>\n",
       "      <th>0</th>\n",
       "      <td>1993/6/1</td>\n",
       "      <td>0.0</td>\n",
       "      <td>1.0</td>\n",
       "      <td>8</td>\n",
       "      <td>1</td>\n",
       "    </tr>\n",
       "    <tr>\n",
       "      <th>1</th>\n",
       "      <td>1993/6/2</td>\n",
       "      <td>10.0</td>\n",
       "      <td>0.0</td>\n",
       "      <td>8</td>\n",
       "      <td>1</td>\n",
       "    </tr>\n",
       "    <tr>\n",
       "      <th>2</th>\n",
       "      <td>1993/6/3</td>\n",
       "      <td>1.5</td>\n",
       "      <td>0.0</td>\n",
       "      <td>8</td>\n",
       "      <td>1</td>\n",
       "    </tr>\n",
       "    <tr>\n",
       "      <th>3</th>\n",
       "      <td>1993/6/4</td>\n",
       "      <td>0.0</td>\n",
       "      <td>1.0</td>\n",
       "      <td>8</td>\n",
       "      <td>1</td>\n",
       "    </tr>\n",
       "    <tr>\n",
       "      <th>4</th>\n",
       "      <td>1993/6/5</td>\n",
       "      <td>0.0</td>\n",
       "      <td>1.0</td>\n",
       "      <td>8</td>\n",
       "      <td>1</td>\n",
       "    </tr>\n",
       "  </tbody>\n",
       "</table>\n",
       "</div>"
      ],
      "text/plain": [
       "        年月日  1時間降水量の最大(mm)  1時間降水量の最大(mm).1  1時間降水量の最大(mm).2  1時間降水量の最大(mm).3\n",
       "0  1993/6/1            0.0              1.0                8                1\n",
       "1  1993/6/2           10.0              0.0                8                1\n",
       "2  1993/6/3            1.5              0.0                8                1\n",
       "3  1993/6/4            0.0              1.0                8                1\n",
       "4  1993/6/5            0.0              1.0                8                1"
      ]
     },
     "execution_count": 77,
     "metadata": {},
     "output_type": "execute_result"
    }
   ],
   "source": [
    "# Just to make sure that you've got everything in place, let's have a peep at the first few rows.\n",
    "df.head()"
   ]
  },
  {
   "cell_type": "code",
   "execution_count": 78,
   "id": "f07873e6",
   "metadata": {},
   "outputs": [
    {
     "data": {
      "text/html": [
       "<div>\n",
       "<style scoped>\n",
       "    .dataframe tbody tr th:only-of-type {\n",
       "        vertical-align: middle;\n",
       "    }\n",
       "\n",
       "    .dataframe tbody tr th {\n",
       "        vertical-align: top;\n",
       "    }\n",
       "\n",
       "    .dataframe thead th {\n",
       "        text-align: right;\n",
       "    }\n",
       "</style>\n",
       "<table border=\"1\" class=\"dataframe\">\n",
       "  <thead>\n",
       "    <tr style=\"text-align: right;\">\n",
       "      <th></th>\n",
       "      <th>1時間降水量の最大(mm)</th>\n",
       "    </tr>\n",
       "  </thead>\n",
       "  <tbody>\n",
       "    <tr>\n",
       "      <th>0</th>\n",
       "      <td>0.0</td>\n",
       "    </tr>\n",
       "    <tr>\n",
       "      <th>1</th>\n",
       "      <td>10.0</td>\n",
       "    </tr>\n",
       "    <tr>\n",
       "      <th>2</th>\n",
       "      <td>1.5</td>\n",
       "    </tr>\n",
       "    <tr>\n",
       "      <th>3</th>\n",
       "      <td>0.0</td>\n",
       "    </tr>\n",
       "    <tr>\n",
       "      <th>4</th>\n",
       "      <td>0.0</td>\n",
       "    </tr>\n",
       "    <tr>\n",
       "      <th>...</th>\n",
       "      <td>...</td>\n",
       "    </tr>\n",
       "    <tr>\n",
       "      <th>10952</th>\n",
       "      <td>0.0</td>\n",
       "    </tr>\n",
       "    <tr>\n",
       "      <th>10953</th>\n",
       "      <td>0.0</td>\n",
       "    </tr>\n",
       "    <tr>\n",
       "      <th>10954</th>\n",
       "      <td>8.0</td>\n",
       "    </tr>\n",
       "    <tr>\n",
       "      <th>10955</th>\n",
       "      <td>5.0</td>\n",
       "    </tr>\n",
       "    <tr>\n",
       "      <th>10956</th>\n",
       "      <td>0.0</td>\n",
       "    </tr>\n",
       "  </tbody>\n",
       "</table>\n",
       "<p>10957 rows × 1 columns</p>\n",
       "</div>"
      ],
      "text/plain": [
       "       1時間降水量の最大(mm)\n",
       "0                0.0\n",
       "1               10.0\n",
       "2                1.5\n",
       "3                0.0\n",
       "4                0.0\n",
       "...              ...\n",
       "10952            0.0\n",
       "10953            0.0\n",
       "10954            8.0\n",
       "10955            5.0\n",
       "10956            0.0\n",
       "\n",
       "[10957 rows x 1 columns]"
      ]
     },
     "execution_count": 78,
     "metadata": {},
     "output_type": "execute_result"
    }
   ],
   "source": [
    "# pandas will usually read columns by name, but you can also locate them by column numbers:\n",
    "\n",
    "df.iloc[:, [1]]"
   ]
  },
  {
   "cell_type": "code",
   "execution_count": 79,
   "id": "11c2672c",
   "metadata": {},
   "outputs": [],
   "source": [
    "# Although we have used a font that reads Japanese language, it is more convinient to compute in one single alphabetic language\n",
    "# ... so here we go, let's do some renaming and also reformatting.\n",
    "\n",
    "df.rename(columns={'1時間降水量の最大(mm)':'MaxRain1hour'}, inplace=True)\n",
    "df['年月日'] = pd.to_datetime(df['年月日'])\n",
    "df = df.rename(columns={'年月日': 'Date'})\n",
    "df.set_index('Date', inplace=True)"
   ]
  },
  {
   "cell_type": "code",
   "execution_count": 80,
   "id": "afab625f",
   "metadata": {},
   "outputs": [
    {
     "data": {
      "text/html": [
       "<div>\n",
       "<style scoped>\n",
       "    .dataframe tbody tr th:only-of-type {\n",
       "        vertical-align: middle;\n",
       "    }\n",
       "\n",
       "    .dataframe tbody tr th {\n",
       "        vertical-align: top;\n",
       "    }\n",
       "\n",
       "    .dataframe thead th {\n",
       "        text-align: right;\n",
       "    }\n",
       "</style>\n",
       "<table border=\"1\" class=\"dataframe\">\n",
       "  <thead>\n",
       "    <tr style=\"text-align: right;\">\n",
       "      <th></th>\n",
       "      <th>MaxRain1hour</th>\n",
       "      <th>1時間降水量の最大(mm).1</th>\n",
       "      <th>1時間降水量の最大(mm).2</th>\n",
       "      <th>1時間降水量の最大(mm).3</th>\n",
       "    </tr>\n",
       "    <tr>\n",
       "      <th>Date</th>\n",
       "      <th></th>\n",
       "      <th></th>\n",
       "      <th></th>\n",
       "      <th></th>\n",
       "    </tr>\n",
       "  </thead>\n",
       "  <tbody>\n",
       "    <tr>\n",
       "      <th>1993-06-01</th>\n",
       "      <td>0.0</td>\n",
       "      <td>1.0</td>\n",
       "      <td>8</td>\n",
       "      <td>1</td>\n",
       "    </tr>\n",
       "    <tr>\n",
       "      <th>1993-06-02</th>\n",
       "      <td>10.0</td>\n",
       "      <td>0.0</td>\n",
       "      <td>8</td>\n",
       "      <td>1</td>\n",
       "    </tr>\n",
       "    <tr>\n",
       "      <th>1993-06-03</th>\n",
       "      <td>1.5</td>\n",
       "      <td>0.0</td>\n",
       "      <td>8</td>\n",
       "      <td>1</td>\n",
       "    </tr>\n",
       "    <tr>\n",
       "      <th>1993-06-04</th>\n",
       "      <td>0.0</td>\n",
       "      <td>1.0</td>\n",
       "      <td>8</td>\n",
       "      <td>1</td>\n",
       "    </tr>\n",
       "    <tr>\n",
       "      <th>1993-06-05</th>\n",
       "      <td>0.0</td>\n",
       "      <td>1.0</td>\n",
       "      <td>8</td>\n",
       "      <td>1</td>\n",
       "    </tr>\n",
       "  </tbody>\n",
       "</table>\n",
       "</div>"
      ],
      "text/plain": [
       "            MaxRain1hour  1時間降水量の最大(mm).1  1時間降水量の最大(mm).2  1時間降水量の最大(mm).3\n",
       "Date                                                                       \n",
       "1993-06-01           0.0              1.0                8                1\n",
       "1993-06-02          10.0              0.0                8                1\n",
       "1993-06-03           1.5              0.0                8                1\n",
       "1993-06-04           0.0              1.0                8                1\n",
       "1993-06-05           0.0              1.0                8                1"
      ]
     },
     "execution_count": 80,
     "metadata": {},
     "output_type": "execute_result"
    }
   ],
   "source": [
    "# Once again, let's check:\n",
    "df.head()"
   ]
  },
  {
   "cell_type": "code",
   "execution_count": 99,
   "id": "6863d25e",
   "metadata": {},
   "outputs": [
    {
     "data": {
      "image/png": "[encoded data removed]",
      "text/plain": [
       "<Figure size 640x480 with 1 Axes>"
      ]
     },
     "metadata": {},
     "output_type": "display_data"
    }
   ],
   "source": [
    "df[\"MaxRain1hour\"].plot()\n",
    "plt.show()"
   ]
  },
  {
   "cell_type": "code",
   "execution_count": 94,
   "id": "ea22f783",
   "metadata": {},
   "outputs": [
    {
     "name": "stdout",
     "output_type": "stream",
     "text": [
      "            MaxRain1hour  1時間降水量の最大(mm).1  1時間降水量の最大(mm).2  1時間降水量の最大(mm).3\n",
      "Date                                                                       \n",
      "2011-09-04          79.0              0.0                8                1\n",
      "2011-09-03          78.0              0.0                8                1\n",
      "2017-09-17          69.0              0.0                8                1\n",
      "2019-09-11          58.5              0.0                8                1\n",
      "2007-08-19          50.0              0.0                8                1\n",
      "2004-09-14          45.5              0.0                8                1\n",
      "2013-09-04          45.0              0.0                8                1\n",
      "2012-06-19          44.5              0.0                8                1\n",
      "2012-07-07          43.5              0.0                8                1\n",
      "2004-09-29          43.0              0.0                8                1\n"
     ]
    }
   ],
   "source": [
    "top_10_max = df.nlargest(10, 'MaxRain1hour')\n",
    "print(top_10_max)"
   ]
  },
  {
   "cell_type": "markdown",
   "id": "d0ab5f6d",
   "metadata": {},
   "source": [
    "#### Finding and displaying the top 10 maximum values in a dataframe\n",
    "\n",
    "Very often, you will need to find the maximum rainfall values over a period, to either define flood disaster risk, mass movement triggering...etc."
   ]
  },
  {
   "cell_type": "code",
   "execution_count": 100,
   "id": "31fe49a7",
   "metadata": {},
   "outputs": [
    {
     "data": {
      "image/png": "[encoded data removed]",
      "text/plain": [
       "<Figure size 640x480 with 1 Axes>"
      ]
     },
     "metadata": {},
     "output_type": "display_data"
    }
   ],
   "source": [
    "df[\"MaxRain1hour\"].plot()\n",
    "plt.scatter(top_10_max.index, top_10_max[\"MaxRain1hour\"], color=\"red\")\n",
    "plt.show()"
   ]
  },
  {
   "cell_type": "markdown",
   "id": "fdfe8d68",
   "metadata": {},
   "source": [
    "## 2. Extracting descriptive statistics\n",
    "\n",
    "#### Return-periods graphic\n",
    "\n",
    "When dealing with natural hazards and rainfall, we often hear once in a ten year, which does not mean that in 10 years it happens once, it means that statistically it is the value that appears exactly or less than 1 time every 10 years, but this value can occurr several years in a row, even if it is once in a 10 years flow/flood...\n",
    "\n",
    "What we need to do is to sort our values from the largest to the smallest and then re-index them as follows:"
   ]
  },
  {
   "cell_type": "code",
   "execution_count": 114,
   "id": "fed04ed2",
   "metadata": {},
   "outputs": [],
   "source": [
    "sorted_df = df.sort_values('MaxRain1hour', ascending=False)"
   ]
  },
  {
   "cell_type": "code",
   "execution_count": 115,
   "id": "a8bb655f",
   "metadata": {},
   "outputs": [
    {
     "data": {
      "text/html": [
       "<div>\n",
       "<style scoped>\n",
       "    .dataframe tbody tr th:only-of-type {\n",
       "        vertical-align: middle;\n",
       "    }\n",
       "\n",
       "    .dataframe tbody tr th {\n",
       "        vertical-align: top;\n",
       "    }\n",
       "\n",
       "    .dataframe thead th {\n",
       "        text-align: right;\n",
       "    }\n",
       "</style>\n",
       "<table border=\"1\" class=\"dataframe\">\n",
       "  <thead>\n",
       "    <tr style=\"text-align: right;\">\n",
       "      <th></th>\n",
       "      <th>MaxRain1hour</th>\n",
       "      <th>1時間降水量の最大(mm).1</th>\n",
       "      <th>1時間降水量の最大(mm).2</th>\n",
       "      <th>1時間降水量の最大(mm).3</th>\n",
       "    </tr>\n",
       "    <tr>\n",
       "      <th>Date</th>\n",
       "      <th></th>\n",
       "      <th></th>\n",
       "      <th></th>\n",
       "      <th></th>\n",
       "    </tr>\n",
       "  </thead>\n",
       "  <tbody>\n",
       "    <tr>\n",
       "      <th>2011-09-04</th>\n",
       "      <td>79.0</td>\n",
       "      <td>0.0</td>\n",
       "      <td>8</td>\n",
       "      <td>1</td>\n",
       "    </tr>\n",
       "    <tr>\n",
       "      <th>2011-09-03</th>\n",
       "      <td>78.0</td>\n",
       "      <td>0.0</td>\n",
       "      <td>8</td>\n",
       "      <td>1</td>\n",
       "    </tr>\n",
       "    <tr>\n",
       "      <th>2017-09-17</th>\n",
       "      <td>69.0</td>\n",
       "      <td>0.0</td>\n",
       "      <td>8</td>\n",
       "      <td>1</td>\n",
       "    </tr>\n",
       "    <tr>\n",
       "      <th>2019-09-11</th>\n",
       "      <td>58.5</td>\n",
       "      <td>0.0</td>\n",
       "      <td>8</td>\n",
       "      <td>1</td>\n",
       "    </tr>\n",
       "    <tr>\n",
       "      <th>2007-08-19</th>\n",
       "      <td>50.0</td>\n",
       "      <td>0.0</td>\n",
       "      <td>8</td>\n",
       "      <td>1</td>\n",
       "    </tr>\n",
       "  </tbody>\n",
       "</table>\n",
       "</div>"
      ],
      "text/plain": [
       "            MaxRain1hour  1時間降水量の最大(mm).1  1時間降水量の最大(mm).2  1時間降水量の最大(mm).3\n",
       "Date                                                                       \n",
       "2011-09-04          79.0              0.0                8                1\n",
       "2011-09-03          78.0              0.0                8                1\n",
       "2017-09-17          69.0              0.0                8                1\n",
       "2019-09-11          58.5              0.0                8                1\n",
       "2007-08-19          50.0              0.0                8                1"
      ]
     },
     "execution_count": 115,
     "metadata": {},
     "output_type": "execute_result"
    }
   ],
   "source": [
    "sorted_df.head()"
   ]
  },
  {
   "cell_type": "code",
   "execution_count": 116,
   "id": "b22545ae",
   "metadata": {},
   "outputs": [
    {
     "data": {
      "text/html": [
       "<div>\n",
       "<style scoped>\n",
       "    .dataframe tbody tr th:only-of-type {\n",
       "        vertical-align: middle;\n",
       "    }\n",
       "\n",
       "    .dataframe tbody tr th {\n",
       "        vertical-align: top;\n",
       "    }\n",
       "\n",
       "    .dataframe thead th {\n",
       "        text-align: right;\n",
       "    }\n",
       "</style>\n",
       "<table border=\"1\" class=\"dataframe\">\n",
       "  <thead>\n",
       "    <tr style=\"text-align: right;\">\n",
       "      <th></th>\n",
       "      <th>MaxRain1hour</th>\n",
       "      <th>1時間降水量の最大(mm).1</th>\n",
       "      <th>1時間降水量の最大(mm).2</th>\n",
       "      <th>1時間降水量の最大(mm).3</th>\n",
       "      <th>Date</th>\n",
       "    </tr>\n",
       "  </thead>\n",
       "  <tbody>\n",
       "    <tr>\n",
       "      <th>0</th>\n",
       "      <td>79.0</td>\n",
       "      <td>0.0</td>\n",
       "      <td>8</td>\n",
       "      <td>1</td>\n",
       "      <td>2011-09-04</td>\n",
       "    </tr>\n",
       "    <tr>\n",
       "      <th>1</th>\n",
       "      <td>78.0</td>\n",
       "      <td>0.0</td>\n",
       "      <td>8</td>\n",
       "      <td>1</td>\n",
       "      <td>2011-09-03</td>\n",
       "    </tr>\n",
       "    <tr>\n",
       "      <th>2</th>\n",
       "      <td>69.0</td>\n",
       "      <td>0.0</td>\n",
       "      <td>8</td>\n",
       "      <td>1</td>\n",
       "      <td>2017-09-17</td>\n",
       "    </tr>\n",
       "    <tr>\n",
       "      <th>3</th>\n",
       "      <td>58.5</td>\n",
       "      <td>0.0</td>\n",
       "      <td>8</td>\n",
       "      <td>1</td>\n",
       "      <td>2019-09-11</td>\n",
       "    </tr>\n",
       "    <tr>\n",
       "      <th>4</th>\n",
       "      <td>50.0</td>\n",
       "      <td>0.0</td>\n",
       "      <td>8</td>\n",
       "      <td>1</td>\n",
       "      <td>2007-08-19</td>\n",
       "    </tr>\n",
       "  </tbody>\n",
       "</table>\n",
       "</div>"
      ],
      "text/plain": [
       "   MaxRain1hour  1時間降水量の最大(mm).1  1時間降水量の最大(mm).2  1時間降水量の最大(mm).3       Date\n",
       "0          79.0              0.0                8                1 2011-09-04\n",
       "1          78.0              0.0                8                1 2011-09-03\n",
       "2          69.0              0.0                8                1 2017-09-17\n",
       "3          58.5              0.0                8                1 2019-09-11\n",
       "4          50.0              0.0                8                1 2007-08-19"
      ]
     },
     "execution_count": 116,
     "metadata": {},
     "output_type": "execute_result"
    }
   ],
   "source": [
    "sorted_df['Date'] = sorted_df.index\n",
    "sorted_df.index = range(len(sorted_df))\n",
    "sorted_df.head()"
   ]
  },
  {
   "cell_type": "code",
   "execution_count": 117,
   "id": "cfadea93",
   "metadata": {},
   "outputs": [
    {
     "data": {
      "text/plain": [
       "[<matplotlib.lines.Line2D at 0x27ea6dddd80>]"
      ]
     },
     "execution_count": 117,
     "metadata": {},
     "output_type": "execute_result"
    },
    {
     "data": {
      "image/png": "[encoded data removed]",
      "text/plain": [
       "<Figure size 640x480 with 1 Axes>"
      ]
     },
     "metadata": {},
     "output_type": "display_data"
    }
   ],
   "source": [
    "plt.plot(sorted_df.index, sorted_df[\"MaxRain1hour\"])"
   ]
  },
  {
   "cell_type": "code",
   "execution_count": 119,
   "id": "35c435ea",
   "metadata": {},
   "outputs": [
    {
     "data": {
      "text/plain": [
       "1.4007121336620103"
      ]
     },
     "execution_count": 119,
     "metadata": {},
     "output_type": "execute_result"
    }
   ],
   "source": [
    "sorted_df[\"MaxRain1hour\"].mean()"
   ]
  },
  {
   "cell_type": "code",
   "execution_count": 127,
   "id": "f46b2313",
   "metadata": {},
   "outputs": [
    {
     "data": {
      "text/plain": [
       "0.0"
      ]
     },
     "execution_count": 127,
     "metadata": {},
     "output_type": "execute_result"
    }
   ],
   "source": [
    "sorted_df[\"MaxRain1hour\"].median()"
   ]
  },
  {
   "cell_type": "markdown",
   "id": "432cc35c",
   "metadata": {},
   "source": [
    "... in this case, because we have a lot of days without rain, the median falls low and the mean maximum rainfall is not that high either. What if we could only consider days when it has been raining. In such case, we would need to define the days that are not 0 rainfall, as follows:"
   ]
  },
  {
   "cell_type": "code",
   "execution_count": 126,
   "id": "a576c920",
   "metadata": {},
   "outputs": [
    {
     "data": {
      "text/plain": [
       "3.0"
      ]
     },
     "execution_count": 126,
     "metadata": {},
     "output_type": "execute_result"
    }
   ],
   "source": [
    "sorted_df[sorted_df[\"MaxRain1hour\"]!= 0][\"MaxRain1hour\"].median()"
   ]
  },
  {
   "cell_type": "code",
   "execution_count": 128,
   "id": "177644a4",
   "metadata": {},
   "outputs": [
    {
     "data": {
      "text/plain": [
       "4.7601613403661185"
      ]
     },
     "execution_count": 128,
     "metadata": {},
     "output_type": "execute_result"
    }
   ],
   "source": [
    "sorted_df[sorted_df[\"MaxRain1hour\"]!= 0][\"MaxRain1hour\"].mean()"
   ]
  },
  {
   "cell_type": "markdown",
   "id": "2a44b8f4",
   "metadata": {},
   "source": [
    "We can also use a convenient function .describe() in order to extract basic statistics about the table, and in the present case, we are doing it for all non zeros values."
   ]
  },
  {
   "cell_type": "code",
   "execution_count": 131,
   "id": "3d982393",
   "metadata": {},
   "outputs": [
    {
     "data": {
      "text/html": [
       "<div>\n",
       "<style scoped>\n",
       "    .dataframe tbody tr th:only-of-type {\n",
       "        vertical-align: middle;\n",
       "    }\n",
       "\n",
       "    .dataframe tbody tr th {\n",
       "        vertical-align: top;\n",
       "    }\n",
       "\n",
       "    .dataframe thead th {\n",
       "        text-align: right;\n",
       "    }\n",
       "</style>\n",
       "<table border=\"1\" class=\"dataframe\">\n",
       "  <thead>\n",
       "    <tr style=\"text-align: right;\">\n",
       "      <th></th>\n",
       "      <th>MaxRain1hour</th>\n",
       "      <th>1時間降水量の最大(mm).1</th>\n",
       "      <th>1時間降水量の最大(mm).2</th>\n",
       "      <th>1時間降水量の最大(mm).3</th>\n",
       "    </tr>\n",
       "  </thead>\n",
       "  <tbody>\n",
       "    <tr>\n",
       "      <th>count</th>\n",
       "      <td>3223.000000</td>\n",
       "      <td>5082.0</td>\n",
       "      <td>10957.000000</td>\n",
       "      <td>10957.0</td>\n",
       "    </tr>\n",
       "    <tr>\n",
       "      <th>mean</th>\n",
       "      <td>4.760161</td>\n",
       "      <td>1.0</td>\n",
       "      <td>7.991604</td>\n",
       "      <td>1.0</td>\n",
       "    </tr>\n",
       "    <tr>\n",
       "      <th>std</th>\n",
       "      <td>6.243025</td>\n",
       "      <td>0.0</td>\n",
       "      <td>0.191844</td>\n",
       "      <td>0.0</td>\n",
       "    </tr>\n",
       "    <tr>\n",
       "      <th>min</th>\n",
       "      <td>0.500000</td>\n",
       "      <td>1.0</td>\n",
       "      <td>1.000000</td>\n",
       "      <td>1.0</td>\n",
       "    </tr>\n",
       "    <tr>\n",
       "      <th>25%</th>\n",
       "      <td>1.000000</td>\n",
       "      <td>1.0</td>\n",
       "      <td>8.000000</td>\n",
       "      <td>1.0</td>\n",
       "    </tr>\n",
       "    <tr>\n",
       "      <th>50%</th>\n",
       "      <td>3.000000</td>\n",
       "      <td>1.0</td>\n",
       "      <td>8.000000</td>\n",
       "      <td>1.0</td>\n",
       "    </tr>\n",
       "    <tr>\n",
       "      <th>75%</th>\n",
       "      <td>5.500000</td>\n",
       "      <td>1.0</td>\n",
       "      <td>8.000000</td>\n",
       "      <td>1.0</td>\n",
       "    </tr>\n",
       "    <tr>\n",
       "      <th>max</th>\n",
       "      <td>79.000000</td>\n",
       "      <td>1.0</td>\n",
       "      <td>8.000000</td>\n",
       "      <td>1.0</td>\n",
       "    </tr>\n",
       "  </tbody>\n",
       "</table>\n",
       "</div>"
      ],
      "text/plain": [
       "       MaxRain1hour  1時間降水量の最大(mm).1  1時間降水量の最大(mm).2  1時間降水量の最大(mm).3\n",
       "count   3223.000000           5082.0     10957.000000          10957.0\n",
       "mean       4.760161              1.0         7.991604              1.0\n",
       "std        6.243025              0.0         0.191844              0.0\n",
       "min        0.500000              1.0         1.000000              1.0\n",
       "25%        1.000000              1.0         8.000000              1.0\n",
       "50%        3.000000              1.0         8.000000              1.0\n",
       "75%        5.500000              1.0         8.000000              1.0\n",
       "max       79.000000              1.0         8.000000              1.0"
      ]
     },
     "execution_count": 131,
     "metadata": {},
     "output_type": "execute_result"
    }
   ],
   "source": [
    "sorted_df[sorted_df !=0].describe()"
   ]
  },
  {
   "cell_type": "markdown",
   "id": "798400b5",
   "metadata": {},
   "source": [
    "Now that we have some statistical data, we can then repeat the work that we did above and instead of choosing the top 10, we can also choose the data in (let say) the top 75%:"
   ]
  },
  {
   "cell_type": "code",
   "execution_count": 139,
   "id": "6eceed47",
   "metadata": {},
   "outputs": [],
   "source": [
    "Top75 = df[df['MaxRain1hour'] > 5.5]"
   ]
  },
  {
   "cell_type": "code",
   "execution_count": 140,
   "id": "06cbd236",
   "metadata": {},
   "outputs": [
    {
     "data": {
      "text/html": [
       "<div>\n",
       "<style scoped>\n",
       "    .dataframe tbody tr th:only-of-type {\n",
       "        vertical-align: middle;\n",
       "    }\n",
       "\n",
       "    .dataframe tbody tr th {\n",
       "        vertical-align: top;\n",
       "    }\n",
       "\n",
       "    .dataframe thead th {\n",
       "        text-align: right;\n",
       "    }\n",
       "</style>\n",
       "<table border=\"1\" class=\"dataframe\">\n",
       "  <thead>\n",
       "    <tr style=\"text-align: right;\">\n",
       "      <th></th>\n",
       "      <th>MaxRain1hour</th>\n",
       "      <th>1時間降水量の最大(mm).1</th>\n",
       "      <th>1時間降水量の最大(mm).2</th>\n",
       "      <th>1時間降水量の最大(mm).3</th>\n",
       "    </tr>\n",
       "    <tr>\n",
       "      <th>Date</th>\n",
       "      <th></th>\n",
       "      <th></th>\n",
       "      <th></th>\n",
       "      <th></th>\n",
       "    </tr>\n",
       "  </thead>\n",
       "  <tbody>\n",
       "    <tr>\n",
       "      <th>1993-06-02</th>\n",
       "      <td>10.0</td>\n",
       "      <td>0.0</td>\n",
       "      <td>8</td>\n",
       "      <td>1</td>\n",
       "    </tr>\n",
       "    <tr>\n",
       "      <th>1993-06-19</th>\n",
       "      <td>8.0</td>\n",
       "      <td>0.0</td>\n",
       "      <td>8</td>\n",
       "      <td>1</td>\n",
       "    </tr>\n",
       "    <tr>\n",
       "      <th>1993-06-23</th>\n",
       "      <td>7.5</td>\n",
       "      <td>0.0</td>\n",
       "      <td>8</td>\n",
       "      <td>1</td>\n",
       "    </tr>\n",
       "    <tr>\n",
       "      <th>1993-06-29</th>\n",
       "      <td>8.5</td>\n",
       "      <td>0.0</td>\n",
       "      <td>8</td>\n",
       "      <td>1</td>\n",
       "    </tr>\n",
       "    <tr>\n",
       "      <th>1993-06-30</th>\n",
       "      <td>6.5</td>\n",
       "      <td>0.0</td>\n",
       "      <td>8</td>\n",
       "      <td>1</td>\n",
       "    </tr>\n",
       "  </tbody>\n",
       "</table>\n",
       "</div>"
      ],
      "text/plain": [
       "            MaxRain1hour  1時間降水量の最大(mm).1  1時間降水量の最大(mm).2  1時間降水量の最大(mm).3\n",
       "Date                                                                       \n",
       "1993-06-02          10.0              0.0                8                1\n",
       "1993-06-19           8.0              0.0                8                1\n",
       "1993-06-23           7.5              0.0                8                1\n",
       "1993-06-29           8.5              0.0                8                1\n",
       "1993-06-30           6.5              0.0                8                1"
      ]
     },
     "execution_count": 140,
     "metadata": {},
     "output_type": "execute_result"
    }
   ],
   "source": [
    "Top75.head()"
   ]
  },
  {
   "cell_type": "code",
   "execution_count": 141,
   "id": "857afe85",
   "metadata": {},
   "outputs": [
    {
     "data": {
      "image/png": "[encoded data removed]",
      "text/plain": [
       "<Figure size 640x480 with 1 Axes>"
      ]
     },
     "metadata": {},
     "output_type": "display_data"
    }
   ],
   "source": [
    "df[\"MaxRain1hour\"].plot()\n",
    "plt.scatter(Top75.index, Top75[\"MaxRain1hour\"], color=\"red\")\n",
    "plt.show()"
   ]
  },
  {
   "cell_type": "code",
   "execution_count": null,
   "id": "fa47d49b",
   "metadata": {},
   "outputs": [],
   "source": []
  }
 ],
 "metadata": {
  "kernelspec": {
   "display_name": "Python 3 (ipykernel)",
   "language": "python",
   "name": "python3"
  },
  "language_info": {
   "codemirror_mode": {
    "name": "ipython",
    "version": 3
   },
   "file_extension": ".py",
   "mimetype": "text/x-python",
   "name": "python",
   "nbconvert_exporter": "python",
   "pygments_lexer": "ipython3",
   "version": "3.10.9"
  }
 },
 "nbformat": 4,
 "nbformat_minor": 5
}
